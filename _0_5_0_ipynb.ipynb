{
  "nbformat": 4,
  "nbformat_minor": 0,
  "metadata": {
    "colab": {
      "provenance": []
    },
    "kernelspec": {
      "name": "python3",
      "display_name": "Python 3"
    },
    "language_info": {
      "name": "python"
    }
  },
  "cells": [
    {
      "cell_type": "markdown",
      "source": [
        "ФИО:"
      ],
      "metadata": {
        "id": "Bu5gIJfHNPHw"
      }
    },
    {
      "cell_type": "code",
      "execution_count": null,
      "metadata": {
        "id": "CbHI8c7cM9Eg"
      },
      "outputs": [],
      "source": [
        "#райх татьяна александровна"
      ]
    },
    {
      "cell_type": "markdown",
      "source": [
        "# **Задание 1**"
      ],
      "metadata": {
        "id": "VrNrBpmocGRd"
      }
    },
    {
      "cell_type": "markdown",
      "source": [
        "\n",
        "\n",
        "Дан словарь, содержащий имена и возраст людей, напишите программу выводящую возраст человека по имени\n",
        "\n",
        "Дано:\n",
        "\n",
        "```\n",
        "{\"Alice\": 25, \"Bob\": 30, \"Charlie\": 35}\n",
        "```\n",
        "\n",
        "Вввод:\n",
        "\n",
        "\n",
        "```\n",
        "Alice\n",
        "```\n",
        "\n",
        "Вывод:\n",
        "\n",
        "\n",
        "```\n",
        "Alice 25\n",
        "```\n"
      ],
      "metadata": {
        "id": "XhV1bnm1bR2h"
      }
    },
    {
      "cell_type": "code",
      "source": [
        "i={\"Alice\": 25, \"Bob\": 30, \"Charlie\": 35}\n",
        "a=input()\n",
        "print(a,i[a])"
      ],
      "metadata": {
        "id": "9T0nNFCEbpaF",
        "colab": {
          "base_uri": "https://localhost:8080/"
        },
        "outputId": "0feb13e7-f307-4848-e5d2-2fa056f90534"
      },
      "execution_count": null,
      "outputs": [
        {
          "output_type": "stream",
          "name": "stdout",
          "text": [
            "Bob\n",
            "Bob 30\n"
          ]
        }
      ]
    },
    {
      "cell_type": "markdown",
      "source": [
        "# **Задание 2**\n"
      ],
      "metadata": {
        "id": "lpjJz-_YcJ-t"
      }
    },
    {
      "cell_type": "markdown",
      "source": [
        "\n",
        "\n",
        "Дан список, состоящий из целых чисел, необходимо написать функцию считающую сумму всех положительных четных чисел списка\n",
        "\n",
        "Ввод:\n",
        "\n",
        "```\n",
        "1, 2, 3, 4, 5, 6, 7, 8, 9\n",
        "```\n",
        "\n",
        "Вывод:\n",
        "\n",
        "\n",
        "```\n",
        "20\n",
        "```\n",
        "\n",
        "***Запрещено:***\n",
        "\n",
        "*   Использование готовых функций для суммирования чисел\n"
      ],
      "metadata": {
        "id": "tMEsAB4rUiWW"
      }
    },
    {
      "cell_type": "code",
      "source": [
        "def summa(chisla): #функция\n",
        "  sum=0\n",
        "  for i in chisla:\n",
        "    if int(i)>0 and int(i)%2==0:\n",
        "      sum+=int(i)\n",
        "  return(sum)\n",
        "\n",
        "spisok=input()#ввод данных\n",
        "spisok=spisok.split(', ')\n",
        "\n",
        "summa(spisok)#вызов функции"
      ],
      "metadata": {
        "id": "wDNUFLeqNQS_",
        "colab": {
          "base_uri": "https://localhost:8080/"
        },
        "outputId": "684f5b01-9406-4388-a75e-16c5923ef3aa"
      },
      "execution_count": null,
      "outputs": [
        {
          "name": "stdout",
          "output_type": "stream",
          "text": [
            "1, 2, 3, 4, 5, 6, 7, 8, 9\n"
          ]
        },
        {
          "output_type": "execute_result",
          "data": {
            "text/plain": [
              "20"
            ]
          },
          "metadata": {},
          "execution_count": 28
        }
      ]
    },
    {
      "cell_type": "markdown",
      "source": [
        "# **Задание 3**"
      ],
      "metadata": {
        "id": "WT_v-vz1dUZJ"
      }
    },
    {
      "cell_type": "markdown",
      "source": [
        "Дан словарь, содержащий название фрукта и его цвет, выведите список всех желтых фруктов\n",
        "\n",
        "\n",
        "Дано:\n",
        "\n",
        "```\n",
        "fruits_and_flowers = {\n",
        "    \"apple\": \"rose\",\n",
        "    \"banana\": \"lily\",\n",
        "    \"mango\": \"sunflower\",\n",
        "    \"orange\": \"daisy\",\n",
        "    \"lemon\": \"tulip\",\n",
        "    \"grape\": \"orchid\"\n",
        "}\n",
        "```\n",
        "\n",
        "Вывод:\n",
        "\n",
        "\n",
        "```\n",
        "Yellow fruits:\n",
        "banana\n",
        "lemon\n",
        "mango\n",
        "```\n",
        "\n"
      ],
      "metadata": {
        "id": "ZI5Xeh2DdXgF"
      }
    },
    {
      "cell_type": "code",
      "source": [
        "fruits_and_flowers = {\n",
        "    \"apple\": \"rose\",\n",
        "    \"banana\": \"lily\",\n",
        "    \"mango\": \"sunflower\",\n",
        "    \"orange\": \"daisy\",\n",
        "    \"lemon\": \"tulip\",\n",
        "    \"grape\": \"orchid\"\n",
        "}\n",
        "yellow_fruits=['banana','lemon','corn','yellow_apple','mango','melon']#список желтых фруктов для сравнения\n",
        "print('Yellow fruits:')\n",
        "for fr in fruits_and_flowers:\n",
        "  for ye_fr in yellow_fruits:\n",
        "    if fr==ye_fr:\n",
        "      print(fr)"
      ],
      "metadata": {
        "id": "aNzFTkhKdkTG",
        "colab": {
          "base_uri": "https://localhost:8080/"
        },
        "outputId": "7913025c-10e4-4b2a-fe9e-e62af22a8506"
      },
      "execution_count": null,
      "outputs": [
        {
          "output_type": "stream",
          "name": "stdout",
          "text": [
            "Yellow fruits:\n",
            "banana\n",
            "mango\n",
            "lemon\n"
          ]
        }
      ]
    },
    {
      "cell_type": "markdown",
      "source": [
        "# **Задание 4**\n"
      ],
      "metadata": {
        "id": "iHtMGt2icM7w"
      }
    },
    {
      "cell_type": "markdown",
      "source": [
        "\n",
        "\n",
        "Дан словарь, необходимо написать функцию меняющую ключ и значение местами\n",
        "\n",
        "Дано:\n",
        "\n",
        "\n",
        "```\n",
        "{\"a\": 1, \"b\": 2, \"c\": 3}\n",
        "```\n",
        "\n",
        "Вывод:\n",
        "\n",
        "```\n",
        "{1: 'a', 2: 'b', 3: 'c'}\n",
        "```\n",
        "\n"
      ],
      "metadata": {
        "id": "rS3THsnBQ_EB"
      }
    },
    {
      "cell_type": "code",
      "source": [
        "i={\"a\": 1, \"b\": 2, \"c\": 3}\n",
        "new_ii={}\n",
        "for a in i:\n",
        "  new_ii[i[a]]=a\n",
        "print(new_ii)"
      ],
      "metadata": {
        "id": "MNRusyLDcQ59",
        "colab": {
          "base_uri": "https://localhost:8080/"
        },
        "outputId": "070c6176-dafc-430c-963c-cefc7a92caa4"
      },
      "execution_count": null,
      "outputs": [
        {
          "output_type": "stream",
          "name": "stdout",
          "text": [
            "{1: 'a', 2: 'b', 3: 'c'}\n"
          ]
        }
      ]
    },
    {
      "cell_type": "markdown",
      "source": [
        "# **Задание 5**"
      ],
      "metadata": {
        "id": "x6ff5nd0cUxD"
      }
    },
    {
      "cell_type": "markdown",
      "source": [
        "Дан список слов, неограниченной длинны, сформируйте словарь, где в качестве ключа будет слово, а в качестве значения количество символов\n",
        "\n",
        "**Критерии**\n",
        "\n",
        "\n",
        "*   Словарь необходимо отсортировать по убыванию количества элементов в списке.\n",
        "*   Подсчет элементов должен быть реализован в отдельной функции\n",
        "*   Сортировка пары `ключ:значение` должна быть реализована также в виде отдельной функции\n",
        "\n",
        "\n",
        "\n",
        "\n",
        "Дано:\n",
        "```\n",
        "['apple','banana','orange','apple','apple','banana']\n",
        "```\n",
        "\n",
        "\n",
        "Вывод:\n",
        "```\n",
        "{'apple':3, 'banana': 2, 'orange': 1}\n",
        "```\n",
        "\n",
        "***Запрещено:***\n",
        "\n",
        "*   Использование готовых функций для сортировки словаря\n",
        "*   Использование готовых функций для подсчета элементов\n",
        "\n"
      ],
      "metadata": {
        "id": "ypQNHOG4NQz3"
      }
    },
    {
      "cell_type": "code",
      "source": [
        "fruitss=['apple','banana','orange','apple','apple','banana']\n",
        "new_frr=[]\n",
        "slovar_fr={}\n",
        "for x in fruitss:\n",
        "  if x not in new_frr:\n",
        "    new_frr.append(x)\n",
        "print(new_frr)\n",
        "for i in new_frr:\n",
        "  c=0\n",
        "  for w in fruitss:\n",
        "    if i==w:\n",
        "      c+=1\n",
        "  slovar_fr[i]=c\n",
        "print(slovar_fr)\n",
        "\n"
      ],
      "metadata": {
        "id": "J10PjdVQUbyq",
        "colab": {
          "base_uri": "https://localhost:8080/"
        },
        "outputId": "6e5db734-4619-4a22-cb83-dbb1dcd1fc43"
      },
      "execution_count": null,
      "outputs": [
        {
          "output_type": "stream",
          "name": "stdout",
          "text": [
            "['apple', 'banana', 'orange']\n",
            "{'apple': 3, 'banana': 2, 'orange': 1}\n"
          ]
        }
      ]
    },
    {
      "cell_type": "markdown",
      "source": [
        "# **Задание 6**"
      ],
      "metadata": {
        "id": "d7fDUr2WcY_G"
      }
    },
    {
      "cell_type": "markdown",
      "source": [
        "Дан словарь, содержащий информацию о людях, необходимо:\n",
        "\n",
        "\n",
        "\n",
        "*   Вывести всех людей старше 30 лет\n",
        "*   Вывести список городов и количество людей из словаря проживающих в них\n",
        "*   Вывести список профессий и список людей для каждой профессии\n",
        "\n",
        "**Критерии**\n",
        "\n",
        "Каждый из пунктов необходимо реализовать в виде функции\n",
        "\n"
      ],
      "metadata": {
        "id": "m11qdVhSWBi7"
      }
    },
    {
      "cell_type": "code",
      "source": [
        "print(people_info.values())"
      ],
      "metadata": {
        "id": "lSNtB39OWtFl",
        "colab": {
          "base_uri": "https://localhost:8080/"
        },
        "outputId": "4c2a58ca-258e-41f1-b86d-2168e027b91e"
      },
      "execution_count": null,
      "outputs": [
        {
          "output_type": "stream",
          "name": "stdout",
          "text": [
            "dict_values([{'age': 25, 'city': 'New York', 'occupation': 'Engineer'}, {'age': 30, 'city': 'Los Angeles', 'occupation': 'Designer'}, {'age': 35, 'city': 'Chicago', 'occupation': 'Teacher'}, {'age': 28, 'city': 'Miami', 'occupation': 'Doctor'}, {'age': 40, 'city': 'Seattle', 'occupation': 'Chef'}, {'age': 32, 'city': 'Atlanta', 'occupation': 'Lawyer'}, {'age': 29, 'city': 'San Francisco', 'occupation': 'Software Engineer'}, {'age': 38, 'city': 'Denver', 'occupation': 'Architect'}, {'age': 26, 'city': 'Washington D.C.', 'occupation': 'Journalist'}, {'age': 42, 'city': 'Miami', 'occupation': 'Musician'}, {'age': 31, 'city': 'Philadelphia', 'occupation': 'Nurse'}, {'age': 36, 'city': 'Nashville', 'occupation': 'Businessman'}, {'age': 27, 'city': 'Atlanta', 'occupation': 'Artist'}, {'age': 39, 'city': 'Portland', 'occupation': 'Writer'}, {'age': 44, 'city': 'Minneapolis', 'occupation': 'Professor'}, {'age': 33, 'city': 'San Diego', 'occupation': 'Marketing Manager'}, {'age': 41, 'city': 'Nashville', 'occupation': 'Singer'}, {'age': 34, 'city': 'Cleveland', 'occupation': 'Teacher'}, {'age': 29, 'city': 'Nashville', 'occupation': 'Engineer'}, {'age': 37, 'city': 'Miami', 'occupation': 'Lawyer'}])\n"
          ]
        }
      ]
    },
    {
      "cell_type": "code",
      "source": [
        "\n"
      ],
      "metadata": {
        "id": "qcLO5eQwXkNK"
      },
      "execution_count": null,
      "outputs": []
    },
    {
      "cell_type": "markdown",
      "source": [
        "# **Задание 7**"
      ],
      "metadata": {
        "id": "27IuB2YScezw"
      }
    },
    {
      "cell_type": "markdown",
      "source": [
        "Задание: Разработка системы отзывов о предметах\n",
        "\n",
        "Описание: Создать программу на Python для хранения и управления отзывами о предметах учебного курса. Программа должна позволять пользователям добавлять, просматривать и удалять отзывы, а также вычислять средний балл по заданному предмету.\n",
        "\n",
        "**Функционал:**\n",
        "\n",
        "*   Добавление отзыва и оценки:\n",
        "   *   Пользователь может ввести название предмета, оценку (от 1 до 5) и текст отзыва.\n",
        "   *   Отзывы должны храниться в структуре данных (например, словаре), где ключом будет название предмета, а значением - список отзывов (каждый отзыв может хранить оценку и комментарий).\n",
        "*   Просмотр отзывов и оценок:\n",
        "   *   Пользователь может запросить отзывы для указанного предмета.\n",
        "   *   Если для указанного предмета есть отзывы, программа должна отобразить список всех отзывов и соответствующих оценок.\n",
        "*   Удаление отзыва:\n",
        "   *   Пользователь может удалить отзыв по индексу. Необходимо заранее уведомить пользователя о том, какие отзывы доступны для удаления.\n",
        "   *   Программа должна обработать ситуацию, когда индекс введен неправильно.\n",
        "*   Вычисление среднего балла по предмету:\n",
        "   *   Пользователь может ввести название предмета, и программа должна вычислить и вывести средний балл по всем отзывам для этого предмета.\n",
        "   *   Если отзывов нет, программа должна сообщить об этом.\n",
        "\n",
        "\n",
        "**Критерии:**\n",
        "\n",
        "*   Код должен быть оформлен в виде функций\n",
        "*   Необходимо обрабатывать неправильный ввод пользователя\n",
        "*   Должны быть комментарии к функциям\n",
        "*   Присутсвует весь дополнительный функционал\n",
        "\n",
        "\n",
        "\n",
        "**Опционально:**\n",
        "\n",
        "Предлагаю вам добавить свои критерии оценки или вопросы, на которые должен ответить студент, чтобы оценить пару\n",
        "\n",
        "\n"
      ],
      "metadata": {
        "id": "Fd95-S9cYhct"
      }
    },
    {
      "cell_type": "code",
      "source": [],
      "metadata": {
        "id": "kzucJrCUa0o7"
      },
      "execution_count": null,
      "outputs": []
    }
  ]
}