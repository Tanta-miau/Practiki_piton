{
  "nbformat": 4,
  "nbformat_minor": 0,
  "metadata": {
    "colab": {
      "provenance": []
    },
    "kernelspec": {
      "name": "python3",
      "display_name": "Python 3"
    },
    "language_info": {
      "name": "python"
    }
  },
  "cells": [
    {
      "cell_type": "markdown",
      "source": [
        "ФИО:"
      ],
      "metadata": {
        "id": "ZLVI_WIcuT56"
      }
    },
    {
      "cell_type": "code",
      "source": [
        "#райх татьяна александровна"
      ],
      "metadata": {
        "id": "3AfG_Tal0P2S"
      },
      "execution_count": null,
      "outputs": []
    },
    {
      "cell_type": "markdown",
      "source": [
        "## Задание 1. HTTP-запросы, ответы и погода\n",
        "\n",
        "Напишите HTTP-запрос для получения информации о погоде в введенном городе из API. Можно использовать API: https://www.gismeteo.ru/api/. Используйте метод GET.\n",
        "\n",
        "\n",
        "Ввод\n",
        "```\n",
        "Екатеринбург\n",
        "```\n",
        "\n",
        "Вывод\n",
        "```\n",
        "Сегодня (1.11) в Екатеринбург 20 ◦С, нет осадков, туман\n",
        "```\n",
        "\n",
        "\n",
        "\n"
      ],
      "metadata": {
        "id": "FtjnLNIKzfMZ"
      }
    },
    {
      "cell_type": "code",
      "source": [
        "#import requests\n",
        "\n",
        "#url='https://www.gismeteo.ru/api/'\n",
        "\n",
        "#response = requests.get(url)\n",
        "\n",
        "#print(response.text)"
      ],
      "metadata": {
        "id": "5Mbs40_buVRV"
      },
      "execution_count": null,
      "outputs": []
    },
    {
      "cell_type": "markdown",
      "source": [
        "## Задание 2. HTTP-запросы, ответы и покемоны\n",
        "\n",
        "\n",
        "Создайте код программы, которая будет взаимодействовать с API, со следующим функионалом:\n",
        "\n",
        "1. Используя метод GET, отправьте запрос на endpoint /pokemon, чтобы получить список первых 20 покемонов\n",
        "\n",
        "2. Извлеките имена покемонов из ответа и выведите их списком\n",
        "\n",
        "3. Введите с помощью input() название одного из покемонов\n",
        "\n",
        "\n",
        "```\n",
        "Имя покемона: clefairy\n",
        "```\n",
        "\n",
        "\n",
        "\n",
        "4. Отправьте GET-запрос, чтобы получить полную информацию о выбранном покемоне\n",
        "\n",
        "5. Извлеките и выведите следующие данные о введенном покемоне:\n",
        "\n",
        "     • Имя\n",
        "\n",
        "     • Тип\n",
        "\n",
        "     • Вес\n",
        "\n",
        "     • Рост\n",
        "\n",
        "     • Способности\n",
        "\n",
        "Используйте PokéAPI (https://pokeapi.co/), который предоставляет информацию о покемонах, их характеристиках, типах и другую информацию."
      ],
      "metadata": {
        "id": "oZ1guEbl0PZm"
      }
    },
    {
      "cell_type": "code",
      "source": [
        "import requests\n",
        "import json\n",
        "\n",
        "pokemons=list()\n",
        "for i in range(1,21):\n",
        "    url='https://pokeapi.co/api/v2/pokemon-form/'+str(i)+'/'\n",
        "    response = requests.get(url)\n",
        "    a=(response.text)\n",
        "    a=json.loads(a)\n",
        "    list.append(pokemons,a['name'])\n",
        "    print(a['name'])\n",
        "\n",
        "print('Имя покемона:')\n",
        "name_pok=input()\n",
        "if name_pok in pokemons:\n",
        "    number_pok=(int(list.index(pokemons,name_pok))+1)\n",
        "    #имя\n",
        "    print('Имя:',name_pok)\n",
        "    #способность\n",
        "    ii='https://pokeapi.co/api/v2/ability/'+str(number_pok)+'/'\n",
        "    response = requests.get(ii)\n",
        "    ii=(response.text)\n",
        "    ii=json.loads(ii)\n",
        "    sposobn=ii['effect_entries']\n",
        "    print('Способности:',(sposobn[1]['effect']))\n",
        "   # type='https://pokeapi.co/api/v2/type/'+str(number_pok)+'/'\n",
        "  #  response = requests.get(type)\n",
        " #   print(response.text)\n",
        "else:\n",
        "  print('error')\n",
        "\n",
        "\n",
        "\n"
      ],
      "metadata": {
        "id": "JkFmivjp25NL",
        "colab": {
          "base_uri": "https://localhost:8080/"
        },
        "outputId": "58a89567-45af-4b66-9866-aa443351ffee"
      },
      "execution_count": null,
      "outputs": [
        {
          "output_type": "stream",
          "name": "stdout",
          "text": [
            "bulbasaur\n",
            "ivysaur\n",
            "venusaur\n",
            "charmander\n",
            "charmeleon\n",
            "charizard\n",
            "squirtle\n",
            "wartortle\n",
            "blastoise\n",
            "caterpie\n",
            "metapod\n",
            "butterfree\n",
            "weedle\n",
            "kakuna\n",
            "beedrill\n",
            "pidgey\n",
            "pidgeotto\n",
            "pidgeot\n",
            "rattata\n",
            "raticate\n",
            "Имя покемона:\n",
            "venusaur\n",
            "Имя: venusaur\n",
            "Способности: This Pokémon's Speed rises one stage after each turn.\n"
          ]
        }
      ]
    },
    {
      "cell_type": "markdown",
      "source": [
        "## Задание 3. HTTP-запросы, ответы и посты\n",
        "\n",
        "Создайте программу, которая будет взаимодействовать с JSONPlaceholder API, реализуя следующие функции:\n",
        "\n",
        "1. Реализуйте функцию, которая выполняет GET-запрос к https://jsonplaceholder.typicode.com/posts и возвращает список постов в формате JSON\n",
        "\n",
        "2. Реализуйте функцию, котороая получает вводимое ID поста, выполняет GET-запрос по ID и возвращает данные поста в формате JSON\n",
        "\n",
        "3. Реализуйте функцию, которая выполняет обработку JSON из пункта 2 и выводит всю важную информацию в консоль"
      ],
      "metadata": {
        "id": "h194KTer1-B3"
      }
    },
    {
      "cell_type": "code",
      "source": [],
      "metadata": {
        "id": "YANQx4o258Zn"
      },
      "execution_count": null,
      "outputs": []
    },
    {
      "cell_type": "markdown",
      "source": [
        "## Задание 4. HTTP-запросы, ответы и работа с постами\n",
        "\n",
        "Создайте программу, которая будет взаимодействовать с JSONPlaceholder API (из предыдущего задания), реализуя новые функции:\n",
        "\n",
        "1. Реализуйте функцию, которая принимает заголовок, содержимое и ID пользователя (информация вводится с помощью input()), выполняет POST-запрос для создания нового поста и возвращает информацию о созданном посте в формате JSON\n",
        "\n",
        "\n",
        "```\n",
        "Заголовок: Новый пост\n",
        "Содержимое поста: Тут должно находиться содержимое нового поста...\n",
        "ID пользователя: 10\n",
        "```\n",
        "\n",
        "\n",
        "\n",
        "2. Реализуйте функцию, которая принимает ID поста, новый заголовок и новое содержимое, выполняет PUT-запрос и возвращает обновлённый пост в формате JSON\n",
        "\n",
        "3. Реализуйте функцию, которая принимает ID поста, выполняет DELETE-запрос и возвращает статус-код ответа"
      ],
      "metadata": {
        "id": "4MjiaxDM58ta"
      }
    },
    {
      "cell_type": "code",
      "source": [],
      "metadata": {
        "id": "jZUIdwq96DNl"
      },
      "execution_count": null,
      "outputs": []
    },
    {
      "cell_type": "markdown",
      "source": [
        "## Задание 5. HTTP-запросы, ответы и пёсики\n",
        "\n",
        "Создайте программу, которая будет взаимодействовать с Dog API, которая позволит получать список пород собак, вводить несколько пород и получать их фотогрфии.\n",
        "\n",
        "Этапы:\n",
        "\n",
        "1. Создайте функцию, которая использует метод GET и возвращает список всех пород собак в формате нумерованного списка\n",
        "\n",
        "2. Реализуйте возможность ввода нескольких пород собак через запятую\n",
        "\n",
        "\n",
        "```\n",
        "african, chow, dingo\n",
        "```\n",
        "\n",
        "\n",
        "\n",
        "3. Создание функции, которая реализует запрос, возвращает и выводит изображениия собак, породы которых были введены до этого\n",
        "\n",
        "\n",
        "Используйте Dog API (https://dog.ceo/dog-api/), который предоставляет информацию о породах собак и их изображения.\n"
      ],
      "metadata": {
        "id": "y0EyPsFQ6mSZ"
      }
    },
    {
      "cell_type": "code",
      "source": [],
      "metadata": {
        "id": "CVJx0B9E8au1"
      },
      "execution_count": null,
      "outputs": []
    }
  ]
}