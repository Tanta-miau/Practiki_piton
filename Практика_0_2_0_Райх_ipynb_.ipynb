{
  "nbformat": 4,
  "nbformat_minor": 0,
  "metadata": {
    "colab": {
      "provenance": []
    },
    "kernelspec": {
      "name": "python3",
      "display_name": "Python 3"
    },
    "language_info": {
      "name": "python"
    }
  },
  "cells": [
    {
      "cell_type": "markdown",
      "source": [
        "Напишите свое ФИО:"
      ],
      "metadata": {
        "id": "0PnTh-ajEoEb"
      }
    },
    {
      "cell_type": "code",
      "source": [
        "print('Привет студентам!')"
      ],
      "metadata": {
        "id": "QyMVPjzWErHw",
        "colab": {
          "base_uri": "https://localhost:8080/"
        },
        "outputId": "7a1724de-56a9-4b4e-f7dd-d5fca42ff012"
      },
      "execution_count": null,
      "outputs": [
        {
          "output_type": "stream",
          "name": "stdout",
          "text": [
            "Привет студентам!\n"
          ]
        }
      ]
    },
    {
      "cell_type": "markdown",
      "source": [
        "# Основы"
      ],
      "metadata": {
        "id": "HPwKiIA4EKO-"
      }
    },
    {
      "cell_type": "markdown",
      "source": [
        "Задание 1: Напиши программу, выводящую на экран сообщение \"Привет, мир!\""
      ],
      "metadata": {
        "id": "8po5IidFERZ8"
      }
    },
    {
      "cell_type": "code",
      "execution_count": null,
      "metadata": {
        "id": "sBRjlCVLEIQr",
        "outputId": "dea3e339-a1e7-4d51-8d9e-32901d7e8b6d",
        "colab": {
          "base_uri": "https://localhost:8080/"
        }
      },
      "outputs": [
        {
          "output_type": "stream",
          "name": "stdout",
          "text": [
            "Привет, мир!\n"
          ]
        }
      ],
      "source": [
        "print(\"Привет, мир!\")"
      ]
    },
    {
      "cell_type": "markdown",
      "source": [
        "Задание 2: Напиши программу которая запрашивает имя пользователя и выводит сообщение:\n",
        "\n",
        "`Привет, <Имя пользователя>`"
      ],
      "metadata": {
        "id": "pUQIIo94EYLg"
      }
    },
    {
      "cell_type": "code",
      "source": [
        "print('введите свое имя')\n",
        "name=int()\n",
        "print('Привет', name )"
      ],
      "metadata": {
        "id": "nNwHKmAnEinH",
        "outputId": "a2725797-88b2-4fd4-c440-3651ef983d8b",
        "colab": {
          "base_uri": "https://localhost:8080/"
        }
      },
      "execution_count": null,
      "outputs": [
        {
          "output_type": "stream",
          "name": "stdout",
          "text": [
            "Привет 0\n"
          ]
        }
      ]
    },
    {
      "cell_type": "markdown",
      "source": [
        "Задание 3: Напиши программу определяющую является ли число четным или нечетным:\n",
        "\n",
        "Пример:\n",
        "\n",
        "`Введите число:` 2\n",
        "\n",
        "`Ваше число четное!`"
      ],
      "metadata": {
        "id": "SAUm9W6_Etkh"
      }
    },
    {
      "cell_type": "code",
      "source": [
        "print('введите число')\n",
        "number=int(input())\n",
        "if number%2==0:\n",
        "  print('Ваше число четное!')\n",
        "elif number==0:\n",
        "  print(\"Это ноль!\")\n",
        "else:\n",
        "  print('Ваше число нечетное!')"
      ],
      "metadata": {
        "id": "LXv7AIN1E4on",
        "colab": {
          "base_uri": "https://localhost:8080/"
        },
        "outputId": "534365cb-02ae-4459-9d7d-dff8660506c5"
      },
      "execution_count": null,
      "outputs": [
        {
          "output_type": "stream",
          "name": "stdout",
          "text": [
            "8\n",
            "Ваше число четное!\n"
          ]
        }
      ]
    },
    {
      "cell_type": "markdown",
      "source": [
        "Задание 4: Напишите программу которая запрашивает длинну и ширину прямоугольника и выводит его площадь:\n",
        "\n",
        "\n",
        "\n",
        "`Введите длинну прямоугольника:`\n",
        "\n",
        "`Введите ширину прямоугольника:`\n",
        "\n",
        "`Площадь прямоугольника: `\n",
        "\n"
      ],
      "metadata": {
        "id": "OW1Y5KyUE_n9"
      }
    },
    {
      "cell_type": "code",
      "source": [
        "print('введите длину прямоугольника')\n",
        "dlina=int(input())\n",
        "print('введите ширину прямоугольника')\n",
        "shirina=int(input())\n",
        "print('площадь равна', dlina*shirina)"
      ],
      "metadata": {
        "id": "Bu5iawknFbXP",
        "colab": {
          "base_uri": "https://localhost:8080/"
        },
        "outputId": "474cd941-6545-4378-9319-6e6015183d21"
      },
      "execution_count": null,
      "outputs": [
        {
          "output_type": "stream",
          "name": "stdout",
          "text": [
            "2\n",
            "15\n",
            "площадь равна 30\n"
          ]
        }
      ]
    },
    {
      "cell_type": "markdown",
      "source": [
        "Задание 5: Напишите программу, которая будет вычислять среднее арифметическое введенных чисел"
      ],
      "metadata": {
        "id": "xj8_QNLsFfLw"
      }
    },
    {
      "cell_type": "code",
      "source": [
        "print('введите количество чисел')\n",
        "kolichestvo=(int(input()))\n",
        "sum=0\n",
        "for num in range(kolichestvo):\n",
        "  print('введите число')\n",
        "  num=int(input())\n",
        "  sum+=num\n",
        "srednee=(sum/kolichestvo)\n",
        "print(srednee)"
      ],
      "metadata": {
        "id": "omumX59JFoKw",
        "colab": {
          "base_uri": "https://localhost:8080/"
        },
        "outputId": "4205f3c3-787a-4e14-9b4b-36a64553d204"
      },
      "execution_count": null,
      "outputs": [
        {
          "output_type": "stream",
          "name": "stdout",
          "text": [
            "введите количество чисел\n",
            "3\n",
            "введите число\n",
            "1\n",
            "введите число\n",
            "7\n",
            "введите число\n",
            "4\n",
            "4.0\n"
          ]
        }
      ]
    },
    {
      "cell_type": "markdown",
      "source": [
        "Задание 6: Напишите программу, которая бы определяла является ли год високосным\n",
        "Пример:\n",
        "\n",
        "`Введите год:` 2024\n",
        "\n",
        "`Ваш год високосный!`"
      ],
      "metadata": {
        "id": "qHXcBMUJcP91"
      }
    },
    {
      "cell_type": "code",
      "source": [
        "print('введите год')\n",
        "god=int(input())\n",
        "if god%4==0:\n",
        "  print('Ваш год високосный!')\n",
        "else:\n",
        "  print('Ваш год невисокосный!')"
      ],
      "metadata": {
        "id": "5zIg47mwcKKr",
        "colab": {
          "base_uri": "https://localhost:8080/"
        },
        "outputId": "48f1fccf-6df9-44aa-e600-7ea58b14842f"
      },
      "execution_count": null,
      "outputs": [
        {
          "output_type": "stream",
          "name": "stdout",
          "text": [
            "2024\n",
            "Ваш год високосный!\n"
          ]
        }
      ]
    },
    {
      "cell_type": "markdown",
      "source": [
        "Задание 7: Необходимо создать простой калькулятор, который позволяет пользователю выбрать одну из четырёх операций (+, -, *, /), ввести два числа и получить результат выполнения операции.\n",
        "\n",
        "`Введите операцию:`\n",
        "\n",
        "`Введите первое число:`\n",
        "\n",
        "`Введите второе число:`\n",
        "\n",
        "`Результат выполнения: `\n"
      ],
      "metadata": {
        "id": "CYaQ69kucdhj"
      }
    },
    {
      "cell_type": "code",
      "source": [
        "print('введите операцию с помощью знаков +,-,*,/')\n",
        "oper=(input())\n",
        "print('введите первое число')\n",
        "num1=int(input())\n",
        "print('введите второе число')\n",
        "num2=int(input())\n",
        "if oper==\"+\":\n",
        "  print(\"результат выполнения равен\", num1+num2)\n",
        "elif oper==\"-\":\n",
        "  print(\"результат выполнения равен\", num1-num2)\n",
        "elif oper==\"*\":\n",
        "  print(\"результат выполнения равен\", num1*num2)\n",
        "elif oper==\"/\":\n",
        "  print(\"результат выполнения равен\", num1/num2)\n",
        "else:\n",
        "  print('что-то не так')"
      ],
      "metadata": {
        "id": "wR5UyEf7ciIE",
        "colab": {
          "base_uri": "https://localhost:8080/"
        },
        "outputId": "81b9508f-520d-4046-e378-a386eb90b1e3"
      },
      "execution_count": null,
      "outputs": [
        {
          "output_type": "stream",
          "name": "stdout",
          "text": [
            "введите операцию с помощью знаков +,-,*,/\n",
            "*\n",
            "введите первое число\n",
            "2\n",
            "введите второе число\n",
            "6\n",
            "результат выполнения 12\n"
          ]
        }
      ]
    },
    {
      "cell_type": "markdown",
      "source": [
        "# Практика 0.2.1"
      ],
      "metadata": {
        "id": "XWBhGpdEFo-U"
      }
    },
    {
      "cell_type": "markdown",
      "source": [
        "**Шахматы**\n",
        "\n",
        "Даны стартовые и конечные координаты, а также фигура\n",
        "\n",
        "Необходимо определить, может ли заданная фигура так ходить?"
      ],
      "metadata": {
        "id": "9Lw9odpqFwtn"
      }
    },
    {
      "cell_type": "code",
      "source": [
        "\n",
        "print('стартовая буква')\n",
        "n_bukwa=input()\n",
        "n_nebukwa=0\n",
        "print('стартовая цифра')\n",
        "nachalo_num=int(input())\n",
        "print('конечная буква')\n",
        "e_bukwa=input()\n",
        "print('конечная цифра')\n",
        "end_num=int(input())\n",
        "e_nebukwa=0\n",
        "print('фигура')\n",
        "figura=input()\n",
        "print('белЫЙ/чернЫЙ')\n",
        "color=input()\n",
        "nn_en=0\n",
        "nne_ene=0\n",
        "\n",
        "#буквы в цифры\n",
        "if n_bukwa=='a':\n",
        "  n_nebukwa=1\n",
        "elif n_bukwa=='b':\n",
        "  n_nebukwa=2\n",
        "elif n_bukwa=='c':\n",
        "  n_nebukwa=3\n",
        "elif n_bukwa=='d':\n",
        "  n_nebukwa=4\n",
        "elif n_bukwa=='e':\n",
        "  n_nebukwa=5\n",
        "elif n_bukwa=='f':\n",
        "  n_nebukwa=6\n",
        "elif n_bukwa=='g':\n",
        "  n_nebukwa=7\n",
        "elif n_bukwa=='h':\n",
        "  n_nebukwa=8\n",
        "else:\n",
        "  print(\"что-то не так, надо на английском\")\n",
        "if e_bukwa=='a':\n",
        "  e_nebukwa=1\n",
        "elif e_bukwa=='b':\n",
        "  e_nebukwa=2\n",
        "elif e_bukwa=='c':\n",
        "  e_nebukwa=3\n",
        "elif e_bukwa=='d':\n",
        "  e_nebukwa=4\n",
        "elif e_bukwa=='e':\n",
        "  e_nebukwa=5\n",
        "elif e_bukwa=='f':\n",
        "  e_nebukwa=6\n",
        "elif e_bukwa=='g':\n",
        "  e_nebukwa=7\n",
        "elif e_bukwa=='h':\n",
        "  e_nebukwa=8\n",
        "else:\n",
        "  print(\"что-то не так, надо на английском. возможно вы вышли за поле\")\n",
        "if nachalo_num<=0 or nachalo_num>8 or end_num<=0 or end_num>8:\n",
        "  print(\"что-то не так, вы вышли за поле\")\n",
        "#пешка\n",
        "if figura==('пешка'):\n",
        "  if color==('черный'):\n",
        "    if nachalo_num==8:\n",
        "        print(\"что ваша пешка там делает?..\")\n",
        "    elif nachalo_num-end_num==1 and n_bukwa==e_bukwa:\n",
        "      print('ваша черная пешка может так сходить')\n",
        "    elif nachalo_num-end_num==2 and n_bukwa==e_bukwa and nachalo_num==7:\n",
        "      print('ваша черная пешка может так сходить')\n",
        "\n",
        "    else:\n",
        "        print('что-то не так')\n",
        "  elif color==('белый'):\n",
        "    if nachalo_num==1:\n",
        "      print(\"что ваша пешка там делает?..\")\n",
        "    elif nachalo_num-end_num==-1 and n_bukwa==e_bukwa:\n",
        "      print('ваша белая пешка может так сходить')\n",
        "    elif nachalo_num-end_num==-2 and n_bukwa==e_bukwa and nachalo_num==2:\n",
        "      print('ваша белая пешка может так сходить')\n",
        "    else:\n",
        "        print('что-то не так')\n",
        "  else:\n",
        "    print('что-то не так')\n",
        "#ладья\n",
        "if figura==('ладья'):\n",
        "  if nachalo_num==end_num or n_bukwa==e_bukwa:\n",
        "    print('ваша ладья может так сходить')\n",
        "  else:\n",
        "    print('что-то пошло не так')\n",
        "\n",
        "#король\n",
        "if figura==('король'):\n",
        "  if nachalo_num==end_num or  nachalo_num-end_num==-1 or  nachalo_num-end_num==1:\n",
        "    if n_nebukwa==e_nebukwa or n_nebukwa-e_nebukwa==-1 or n_nebukwa-e_nebukwa==1:\n",
        "      print('ваш король может так сходить')\n",
        "    else:\n",
        "      print('что-то пошло не так')\n",
        "  else:\n",
        "    print('что-то пошло не так')\n",
        "#слон\n",
        "if figura==('слон'):\n",
        "  if ((nachalo_num-end_num)==(n_nebukwa-e_nebukwa)) or ((end_num-nachalo_num)==(n_nebukwa-e_nebukwa)):\n",
        "    print('ваш слон может так сходить')\n",
        "  else:\n",
        "    print('что-то пошло не так')\n",
        "#ферзь:\n",
        "if figura==('ферзь') or figura==('королева'):\n",
        "  if (nachalo_num-end_num)==(n_nebukwa-e_nebukwa) or (end_num-nachalo_num)==(n_nebukwa-e_nebukwa) or nachalo_num==end_num or n_bukwa==e_bukwa:\n",
        "    print('ваш ферзь может так сходить')\n",
        "  else:\n",
        "    print('что-то пошло не так')\n",
        "#конь\n",
        "nn_en=nachalo_num-end_num\n",
        "nne_ene=n_nebukwa-e_nebukwa\n",
        "if figura==('конь'):\n",
        "  if (nn_en==1 and nne_ene==2) or (nn_en==2 and nne_ene==1) or (nn_en==2 and nne_ene==-1) or (nn_en==1 and nne_ene==-2) or (nn_en==-1 and nne_ene==-2) or (nn_en==-2 and nne_ene==-1) or (nn_en==-2 and nne_ene==1) or (nn_en==-1 and nne_ene==2):\n",
        "    print('ваш конь может так сходить')\n",
        "  else:\n",
        "    print('что-то пошло не так')\n",
        "\n"
      ],
      "metadata": {
        "id": "9IICo0p3F07P",
        "colab": {
          "base_uri": "https://localhost:8080/"
        },
        "outputId": "f4fcb9a1-52bb-4468-96b0-330c572be35e"
      },
      "execution_count": null,
      "outputs": [
        {
          "output_type": "stream",
          "name": "stdout",
          "text": [
            "стартовая буква\n",
            "b\n",
            "стартовая цифра\n",
            "2\n",
            "конечная буква\n",
            "b\n",
            "конечная цифра\n",
            "4\n",
            "фигура\n",
            "пешка\n",
            "белый/черный\n",
            "белый\n",
            "ваша белая пешка может так сходить\n"
          ]
        }
      ]
    },
    {
      "cell_type": "markdown",
      "source": [
        "# Практика 0.2.2\n",
        "\n",
        "**Цифра на определенном месте:**\n",
        "\n",
        "Последовательно записан натуральный ряд чисел.\n",
        "\n",
        "Какая цифра стоит в N позиции"
      ],
      "metadata": {
        "id": "wI5bLNpHGDmO"
      }
    },
    {
      "cell_type": "code",
      "source": [
        "N-ная"
      ],
      "metadata": {
        "id": "XLm_zFGzGNsU"
      },
      "execution_count": null,
      "outputs": []
    },
    {
      "cell_type": "markdown",
      "source": [
        "# Практика 0.2.3\n",
        "\n",
        "\n",
        "Возьмите код из задания 7 и улучшите ваш калькулятор следующим образом:\n",
        "\n",
        "Пользователь вводит строку вида:\n",
        "\n",
        "(5+5)*5 - данная строка содержит в себе математическое выражение, а также скобки\n",
        "\n",
        "Ваша программа должная понять что за математическое выражение записано, проверить верно ли оно записано (пример неверного заполнения: (5(+)5)*5, а также расчитать его в соотвествии с правилами математики"
      ],
      "metadata": {
        "id": "dpxTJv-scnMy"
      }
    },
    {
      "cell_type": "code",
      "source": [
        "(._.)"
      ],
      "metadata": {
        "id": "18gOluyHcmmf",
        "colab": {
          "base_uri": "https://localhost:8080/"
        },
        "outputId": "5695e27b-f023-46ba-acaf-348e91b7b48b"
      },
      "execution_count": null,
      "outputs": [
        {
          "name": "stdout",
          "output_type": "stream",
          "text": [
            "введите математическое выражение\n",
            "(5+5)*5\n"
          ]
        }
      ]
    }
  ]
}