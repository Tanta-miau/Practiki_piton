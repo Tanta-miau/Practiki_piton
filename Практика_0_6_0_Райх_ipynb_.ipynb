{
  "nbformat": 4,
  "nbformat_minor": 0,
  "metadata": {
    "colab": {
      "provenance": []
    },
    "kernelspec": {
      "name": "python3",
      "display_name": "Python 3"
    },
    "language_info": {
      "name": "python"
    }
  },
  "cells": [
    {
      "cell_type": "markdown",
      "source": [
        "\n",
        "\n",
        "---\n",
        "\n"
      ],
      "metadata": {
        "id": "tKNG_RzWxG6g"
      }
    },
    {
      "cell_type": "markdown",
      "source": [
        "# **Дисклеймер**\n",
        "\n",
        "В данной практике будет введен дополнительный критерий: чистота и читаемость кода, а также соблюдение правил описанных в начале практики"
      ],
      "metadata": {
        "id": "cFcrKfclKWh0"
      }
    },
    {
      "cell_type": "markdown",
      "source": [
        "\n",
        "\n",
        "---\n",
        "\n"
      ],
      "metadata": {
        "id": "0SnE87X1xDlV"
      }
    },
    {
      "cell_type": "markdown",
      "source": [
        "# Задание 1\n",
        "\n",
        "**Задача:**\n",
        "\n",
        "Напишите функцию очищающий список от дубликтов\n",
        "\n",
        "\n",
        "*Запрещено:*\n",
        "\n",
        "*   Использовать set() или готовые функции очищающие список от дубликатов\n",
        "\n",
        "Вввод:\n",
        "\n",
        "```\n",
        "apple banana apple 1 3 4 4 5\n",
        "```\n",
        "\n",
        "\n",
        "Вывод:\n",
        "\n",
        "```\n",
        "apple banana 1 3 4 5\n",
        "```\n",
        "\n"
      ],
      "metadata": {
        "id": "VxawR9NubT_F"
      }
    },
    {
      "cell_type": "code",
      "source": [
        "def ochistka(spisok):\n",
        "  spisok=spisok.split()\n",
        "  new_spisok=list()\n",
        "  for i in spisok:\n",
        "    if i not in new_spisok:\n",
        "      list.append(new_spisok,i)\n",
        "  return new_spisok\n",
        "sp=input()\n",
        "print(ochistka(sp))\n",
        "\n",
        "\n"
      ],
      "metadata": {
        "id": "ml5gnbPXbeju",
        "colab": {
          "base_uri": "https://localhost:8080/"
        },
        "outputId": "d6ca785d-2551-4fd4-e915-1778bc98bc45"
      },
      "execution_count": null,
      "outputs": [
        {
          "output_type": "stream",
          "name": "stdout",
          "text": [
            "apple banana apple 1 3 4 4 5\n",
            "['apple', 'banana', '1', '3', '4', '5']\n"
          ]
        }
      ]
    },
    {
      "cell_type": "markdown",
      "source": [
        "# Задание 2\n",
        "\n",
        "**Задача:**\n",
        "\n",
        "Написать функцию для нахождения простых чисел в диапазоне\n",
        "\n",
        "Ввод:\n",
        "\n",
        "```\n",
        "10, 50\n",
        "```\n",
        "\n",
        "Вывод:\n",
        "\n",
        "```\n",
        "11, 13, 17, 19, 23, 29, 31, 37, 41, 43, 47\n",
        "```"
      ],
      "metadata": {
        "id": "y05x0eD0cVCC"
      }
    },
    {
      "cell_type": "code",
      "source": [
        "diapazon=input()\n",
        "diapazon=(diapazon.split(', '))\n",
        "nachalo_di=int(diapazon[0])\n",
        "konez_di=int(diapazon[1])\n",
        "chisla=[]\n",
        "for i in range(nachalo_di,(konez_di+1)):\n",
        "  kol_vo_delenij=0\n",
        "  for x in range (2,i):\n",
        "    if i%x==0:\n",
        "      kol_vo_delenij+=1\n",
        "  if kol_vo_delenij<1:\n",
        "    list.append(chisla,i)\n",
        "\n",
        "print(chisla)"
      ],
      "metadata": {
        "id": "XSMJnLgrc6Bf",
        "colab": {
          "base_uri": "https://localhost:8080/"
        },
        "outputId": "77177d63-82d7-413f-a85b-7f312df2fa8b"
      },
      "execution_count": null,
      "outputs": [
        {
          "output_type": "stream",
          "name": "stdout",
          "text": [
            "10, 50\n",
            "[11, 13, 17, 19, 23, 29, 31, 37, 41, 43, 47]\n"
          ]
        }
      ]
    },
    {
      "cell_type": "markdown",
      "source": [
        "# Задание 3\n",
        "\n",
        "Напишите функцию для объединения двух списков (список ключей и список значении) в словарь\n",
        "\n",
        "*Запрещено:*\n",
        "\n",
        "*   Использования готовых функции для объединения списков (пример: zip() )\n",
        "\n",
        "Дано:\n",
        "\n",
        "```\n",
        "keys = ['a', 'b', 'c', 'e' ]\n",
        "values = [1, 2, 3, 4]\n",
        "```\n",
        "\n",
        "Вывод:\n",
        "```\n",
        "{'a': 1, 'b': 2, 'c': 3, 'e': 4}\n",
        "```\n",
        "\n",
        "\n"
      ],
      "metadata": {
        "id": "vYM0LyxxdElN"
      }
    },
    {
      "cell_type": "code",
      "source": [
        "keys = ['a', 'b', 'c', 'e' ]\n",
        "values = [1, 2, 3, 4]\n",
        "slovar=dict()\n",
        "for i in range(len(keys)):\n",
        "  key_sl=keys[i]\n",
        "  value_sl=values[i]\n",
        "  slovar[key_sl]=value_sl\n",
        "print(slovar)"
      ],
      "metadata": {
        "id": "CRvhHTjCdvjS",
        "colab": {
          "base_uri": "https://localhost:8080/"
        },
        "outputId": "92dd7555-4a2a-417d-b3af-6a773f39a567"
      },
      "execution_count": null,
      "outputs": [
        {
          "output_type": "stream",
          "name": "stdout",
          "text": [
            "{'a': 1, 'b': 2, 'c': 3, 'e': 4}\n"
          ]
        }
      ]
    },
    {
      "cell_type": "markdown",
      "source": [
        "# Задание 4\n",
        "\n",
        "Напишите функцию(ии) для подсчета статистических параметров:\n",
        "*   Сумму\n",
        "*   Среднее арифметическое\n",
        "*   Медиану\n",
        "*   Моду\n",
        "\n",
        "\n",
        "*Запрещено:*\n",
        "\n",
        "*   sum()\n",
        "*   sorted()\n",
        "*   и других функции предоставляющих готовое решение задания\n",
        "\n",
        "Дано:\n",
        "\n",
        "```\n",
        "numbers = [1, 2, 2, 3, 4, 5, 6, 7, 8 ,9 ,10]\n",
        "\n",
        "```\n",
        "\n",
        "Вывод:\n",
        "```\n",
        "{'mean': 5.181818181818182, 'median': 5, 'mode': 2, 'sum': 57}\n",
        "```\n"
      ],
      "metadata": {
        "id": "L_w8H8i-fQcP"
      }
    },
    {
      "cell_type": "code",
      "source": [
        "numbers = [1, 2, 2, 3, 4, 5, 6, 7, 8 ,9 ,10]\n",
        "def sorted(spisok):\n",
        "  spisok=set(spisok)\n",
        "  spisok=list(spisok)\n",
        "  min=-999999999999999999999999\n",
        "  for num in spisok:\n",
        "    num=int(num)\n",
        "    for x in spisok:\n",
        "      if num>min:\n",
        "        return'dddd'\n",
        "\n",
        "\n",
        "\n",
        "def summa(spisok):\n",
        "  sum=0\n",
        "  for chislo in spisok:\n",
        "    chislo=int(chislo)\n",
        "    sum+=chislo\n",
        "  return f'sum: {sum}'\n",
        "\n",
        "\n",
        "def mean(spisok):\n",
        "  sum=0\n",
        "  kol_vo=0\n",
        "  for chislo in spisok:\n",
        "    chislo=int(chislo)\n",
        "    sum+=chislo\n",
        "    kol_vo+=1\n",
        "  return f'mean: {(sum/kol_vo)}'\n",
        "\n",
        "\n",
        "def moda(spisok):\n",
        "  new_spisok=set(spisok)\n",
        "  povtor=list()\n",
        "  new_spisok=list(new_spisok)\n",
        "  for i in new_spisok:\n",
        "    c=0\n",
        "    for x in spisok:\n",
        "      if i==x:\n",
        "        c+=1\n",
        "    list.append(povtor,c)\n",
        "    maxxx=0\n",
        "  for v in povtor:\n",
        "    if int(v)>maxxx:\n",
        "      maxxx=v\n",
        "  for d in povtor:\n",
        "    if d==maxxx:\n",
        "      index_d=povtor[d]\n",
        "  return f'mode: {new_spisok[index_d]}'\n",
        "\n",
        "\n",
        "\n",
        "\n",
        "\n",
        "\n",
        "def mediana(spisok):\n",
        "  spisok=set(spisok)\n",
        "  spisok=list(spisok)\n",
        "  c=-1\n",
        "  for i in spisok:\n",
        "    c+=1\n",
        "  return f'median: {spisok[c//2]}'\n",
        "\n",
        "print(mean(numbers),',', mediana(numbers),',', moda(numbers),',', summa(numbers))\n",
        "\n",
        "\n",
        "\n",
        "\n"
      ],
      "metadata": {
        "id": "dW6jW_rjfuba",
        "colab": {
          "base_uri": "https://localhost:8080/"
        },
        "outputId": "2aebc20a-dccb-4fd0-d171-9d13515eea4f"
      },
      "execution_count": null,
      "outputs": [
        {
          "output_type": "stream",
          "name": "stdout",
          "text": [
            "mean: 5.181818181818182 , median: 5 , mode: 2 , sum: 57\n"
          ]
        }
      ]
    },
    {
      "cell_type": "markdown",
      "source": [
        "# Задание 5\n",
        "\n",
        "На ввод поступает строка символов. Строка состоит из слов, которые отделены друг от друга пробелами. Необходимо вывести самое длинное слово и его порядковый номер.\n",
        "\n",
        "*Запрещено:*\n",
        "\n",
        "*   len()\n",
        "\n",
        "Дано:\n",
        "\n",
        "```\n",
        "Страдание и боль всегда обязательны для широкого сознания и глубокого сердца.\n",
        "\n",
        "```\n",
        "\n",
        "Вывод:\n",
        "```\n",
        "Самое длинное слово с номером 5: обязательны\n",
        "```"
      ],
      "metadata": {
        "id": "hZW0NZ7SgTcp"
      }
    },
    {
      "cell_type": "code",
      "source": [
        "#не сделано это\n",
        "stroka='Страдание и боль всегда обязательны для широкого сознания и глубокого сердца'\n",
        "max=0\n",
        "c=0\n",
        "stroka=stroka.split()\n",
        "for i in stroka:\n",
        "  word=list(i)\n",
        "  count=0\n",
        "  for letter in word:\n",
        "    count+=1\n",
        "  if count>max:\n",
        "    max=count\n",
        "\n",
        "\n",
        "\n",
        "for i in stroka:\n",
        "  word=list(i)\n",
        "  c=0\n",
        "  for letter in word:\n",
        "    c+=1\n",
        "  if c==count:\n",
        "    print(f'Самое длинное слово с номером {i}: {word}')\n",
        "\n",
        "\n",
        "#    vegetables_yields = [10, 15, 5, 12]\n",
        "#result = list.index(vegetables_yields, 5)\n",
        "#print(result)\n",
        "# Вывод в терминал: 2\n",
        "\n",
        "\n",
        "\n",
        "\n",
        "\n",
        "\n",
        "print(count,max,word)\n",
        "print(f'Самое длинное слово с номером:{c}')"
      ],
      "metadata": {
        "id": "rC5DpHHLsDYp",
        "colab": {
          "base_uri": "https://localhost:8080/"
        },
        "outputId": "30819a09-2cf4-4425-dc01-e69c3744d6b5"
      },
      "execution_count": null,
      "outputs": [
        {
          "output_type": "stream",
          "name": "stdout",
          "text": [
            "Самое длинное слово с номером всегда: ['в', 'с', 'е', 'г', 'д', 'а']\n",
            "Самое длинное слово с номером сердца: ['с', 'е', 'р', 'д', 'ц', 'а']\n",
            "6 11 ['с', 'е', 'р', 'д', 'ц', 'а']\n",
            "Самое длинное слово с номером:6\n"
          ]
        }
      ]
    },
    {
      "cell_type": "markdown",
      "source": [
        "# Задание 6\n",
        "\n",
        "Напишите программу, для управления оценками студентов, со следующими функциями:\n",
        "\n",
        "* Добавление информации о студенте и его оценках.\n",
        "* Подсчет среднего балла студента.\n",
        "* Получение списка всех студентов с их средними баллами.\n",
        "* Поиск студента по имени и вывод его оценок и среднего балла.\n",
        "\n",
        "\n",
        "\n"
      ],
      "metadata": {
        "id": "k5BzJW5ZeaQN"
      }
    },
    {
      "cell_type": "code",
      "source": [
        "student={\n",
        "    'Марина': (5, 2, 4, 5, 5),\n",
        "    'Илья': (4, 4, 3, 2),\n",
        "    'Абоба':(2, 3, 2, 2),\n",
        "    'Алексей':(5, 4, 5, 4, 5, 5),\n",
        "    'Мирослав':(4, 5, 3, 2, 5),\n",
        "    'Ульяна':(5, 5, 5, 4),\n",
        "}\n",
        "def sred_ball(name): #Подсчет среднего балла студента.\n",
        "  if name in student:\n",
        "    ozenki=list(student[name])\n",
        "    sr_ball=0\n",
        "    count=0\n",
        "    for q in ozenki:\n",
        "      count+=1\n",
        "      sr_ball+=q\n",
        "    sr_ball=sr_ball/count\n",
        "  return sr_ball\n",
        "\n",
        "def pokazat_sl(slovar): # Получение списка всех студентов с их средними баллами\n",
        "  new_sl=dict()\n",
        "  for i in slovar:\n",
        "    sr_ball=sred_ball(i)\n",
        "    new_sl[i]=sr_ball\n",
        "  return new_sl\n",
        "\n",
        "\n",
        "print(sred_ball('Илья'))\n",
        "print(pokazat_sl(student))\n",
        "\n",
        "\n",
        "\n"
      ],
      "metadata": {
        "id": "cvhlltVbdyoL",
        "colab": {
          "base_uri": "https://localhost:8080/"
        },
        "outputId": "574b00d5-ca6a-4c14-8e3d-1d8912b3b9ef"
      },
      "execution_count": null,
      "outputs": [
        {
          "output_type": "stream",
          "name": "stdout",
          "text": [
            "3.25\n",
            "{'Марина': 4.2, 'Илья': 3.25, 'Абоба': 2.25, 'Алексей': 4.666666666666667, 'Мирослав': 3.8, 'Ульяна': 4.75}\n"
          ]
        }
      ]
    },
    {
      "cell_type": "markdown",
      "source": [
        "# Задание 7\n",
        "\n",
        "\n",
        "**Задача:**\n",
        "\n",
        "Создайте приложение-викторину с командной строкой, которое задает пользователям вопросы по различным темам и отслеживает их результаты.\n",
        "\n",
        "Ключевые особенности:\n",
        "\n",
        "*   Хранение данных о вопросах и ответах на них, а также баллов за каждый вопрос\n",
        "*   Реализуйте функцию для представления вопросов, принятия ответов пользователей и предоставления обратной связи о том, являются ли ответы правильными или неправильными.\n",
        "*  После завершения викторины отобразите общий балл пользователя из числа ответов на вопросы.\n",
        "*  Реализуйте функцию добавления нового вопроса\n",
        "*  Реализуйте функцию перемешивания вопросов, для отображения случайного вопроса\n"
      ],
      "metadata": {
        "id": "iQ8Z-7PYgu1_"
      }
    },
    {
      "cell_type": "code",
      "source": [],
      "metadata": {
        "id": "DhxyYwHwh2V4"
      },
      "execution_count": null,
      "outputs": []
    }
  ]
}