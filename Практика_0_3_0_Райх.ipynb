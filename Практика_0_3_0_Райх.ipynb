{
  "nbformat": 4,
  "nbformat_minor": 0,
  "metadata": {
    "colab": {
      "provenance": []
    },
    "kernelspec": {
      "name": "python3",
      "display_name": "Python 3"
    },
    "language_info": {
      "name": "python"
    }
  },
  "cells": [
    {
      "cell_type": "markdown",
      "source": [
        "ФИО"
      ],
      "metadata": {
        "id": "phMKaFq3DN13"
      }
    },
    {
      "cell_type": "code",
      "execution_count": null,
      "metadata": {
        "id": "3CWpaI7SDK8t"
      },
      "outputs": [],
      "source": [
        "#райх татьяна александровна"
      ]
    },
    {
      "cell_type": "markdown",
      "source": [
        "**Во всей практике нельзя применять библиотеки предоставляющие готовые решения!**"
      ],
      "metadata": {
        "id": "jyIy3GOgFOCe"
      }
    },
    {
      "cell_type": "markdown",
      "source": [
        "# **Задача 1.**\n"
      ],
      "metadata": {
        "id": "XizmlL1RK2t3"
      }
    },
    {
      "cell_type": "markdown",
      "source": [
        "\n",
        "\n",
        "Типы данных Напишите программу на Python, которая принимает список чисел в качестве входных данных от пользователя, а затем выводит сумму, среднее значение и максимальное значение из списка.\n",
        "\n",
        "***Нельзя использовать: len(), min(), max(), average(), sum()***\n",
        "\n",
        "Ввод:\n",
        "```\n",
        "1 2 3 4 5 6 7\n",
        "```\n",
        "Вывод:\n",
        "\n",
        "```\n",
        "Сумма чисел: 28\n",
        "Среднее арифм.: 4.0\n",
        "Максимальное значение: 7\n",
        "```\n",
        "\n"
      ],
      "metadata": {
        "id": "p0v6KtHTFKSd"
      }
    },
    {
      "cell_type": "code",
      "source": [
        "num=input()\n",
        "sum=0\n",
        "max=-999999999999999999999999999999\n",
        "num = num.split()\n",
        "for i in range(len(num)):\n",
        "  sum+=int(num[i])\n",
        "  if int(num[i])>max:\n",
        "    max=int(num[i])\n",
        "sred=sum/(i+1)\n",
        "print('сумма чисел:',sum)\n",
        "print('среднее арифм.:', sred)\n",
        "print('максимальное значение:',max)\n"
      ],
      "metadata": {
        "id": "0e1Virl0FpF6",
        "outputId": "3aa6371f-5a9e-4271-9d3e-e4395790dbac",
        "colab": {
          "base_uri": "https://localhost:8080/"
        }
      },
      "execution_count": null,
      "outputs": [
        {
          "output_type": "stream",
          "name": "stdout",
          "text": [
            "1 2 3 4 5 6 7\n",
            "сумма чисел: 28\n",
            "среднее арифм.: 4.0\n",
            "максимальное значение: 7\n"
          ]
        }
      ]
    },
    {
      "cell_type": "markdown",
      "source": [
        "# **Задача 2.**"
      ],
      "metadata": {
        "id": "uFluc5OSK0NH"
      }
    },
    {
      "cell_type": "markdown",
      "source": [
        "\n",
        "Напишите программу на Python, которая принимает список слов в качестве входных данных от пользователя, а затем распечатывает список в обратном порядке.\n",
        "\n",
        "Ввод:\n",
        "\n",
        "```\n",
        "апельсин мандарин яблоко\n",
        "```\n",
        "\n",
        "Вывод:\n",
        "\n",
        "```\n",
        "яблоко мандарин апельсин\n",
        "```"
      ],
      "metadata": {
        "id": "6T8vg324GG4Z"
      }
    },
    {
      "cell_type": "code",
      "source": [
        "spisok=input()\n",
        "spisok = spisok.split()\n",
        "new_spisok=[]\n",
        "for i in range(len(spisok)-1,-1,-1):\n",
        "  new_spisok.append(spisok[i])\n",
        "print(*new_spisok)\n"
      ],
      "metadata": {
        "id": "v3AWj4ufGKox",
        "outputId": "265a15b0-3b82-4413-f90f-0418905d6b5a",
        "colab": {
          "base_uri": "https://localhost:8080/"
        }
      },
      "execution_count": null,
      "outputs": [
        {
          "output_type": "stream",
          "name": "stdout",
          "text": [
            "апельсин мандарин яблоко\n",
            "яблоко мандарин апельсин\n"
          ]
        }
      ]
    },
    {
      "cell_type": "markdown",
      "source": [
        "# **Задача 3**"
      ],
      "metadata": {
        "id": "D1KkCxtIKxRx"
      }
    },
    {
      "cell_type": "markdown",
      "source": [
        "Простой чат-бот\n",
        "Создайте простого чат-бота, который отвечает на основные запросы пользователей. Программа должна использовать условные выражения для определения намерений пользователя и последующего соответствующего ответа.\n",
        "\n",
        "Чат бот может:\n",
        "\n",
        "- помогать складывать числа\n",
        "- подсказывать фильм, музыку и тд (из заранее созданного списка)\n",
        "- создавать список дел (а также выводить его, обновлять, очищать)\n",
        "\n",
        "Интерфейс чат-бота на ваше усмотрение, это могут быть как заранее определенные команды, так и к примеру вызов команды по номеру\n",
        "\n",
        "*Реализовать без использования функций*\n",
        "\n",
        "Пример:\n",
        "\n",
        "Ввод:\n",
        "\n",
        "```\n",
        "Олег, какую мызыку посоветуешь?\n",
        "```\n",
        "\n",
        "Вывод:\n",
        "\n",
        "```\n",
        "Я бы посоветовал вам: Led Zeppelin Stairway to Heaven\n",
        "```"
      ],
      "metadata": {
        "id": "Yq8Jgb9yHvSi"
      }
    },
    {
      "cell_type": "code",
      "source": [
        "\n",
        "import random\n",
        "#muz=random.choice(['фонк','реп','джаз',\"хип-хоп\"])\n",
        "#kino=random.choice(['комедию','хоррор','боевик',\"мелодраму\"])\n",
        "print('что вас интересует: сложение чисел/интересный фильм/ интересная музыка/список дел')\n",
        "interes=input()\n",
        "interes = interes.split()\n",
        "if 'список дел' in interes or 'список' in interes:\n",
        "  print('что надо сделать: вывести/обновить/очистить?')\n",
        "  zapros_del=input()\n",
        "  zapros_del = zapros_del.split()\n",
        "  spisok_del=['прес качат','бегит','отжумани']\n",
        "  if \"вывести\" in zapros_del or \"выведи\" in zapros_del:\n",
        "    print(spisok_del)\n",
        "  elif \"обновить\" in zapros_del or \"обнови\" in zapros_del:\n",
        "    print(\"напишите дело или напишите 'конец', если больше нет дел\")\n",
        "    new_delo=input()\n",
        "    while new_delo != \"конец\":\n",
        "      spisok_del.append(new_delo)\n",
        "      new_delo=input()\n",
        "    print('вот ваш список дел:',spisok_del)\n",
        "  elif \"очистить\" in zapros_del or 'очищать' in zapros_del or 'очисти' in zapros_del:\n",
        "    print('вот ваш список дел. напишите то дело, которое хотите удалить')\n",
        "    print(spisok_del)\n",
        "    delo_delete=(input())\n",
        "    if delo_delete in spisok_del:\n",
        "      spisok_del.remove(delo_delete)\n",
        "      print('вот ваш новый список дел:')\n",
        "      print(spisok_del)\n",
        "    else:\n",
        "      print(\"пожалуйста, будьте точны в формулировке\")\n",
        "  else:\n",
        "    print(\"что вам надо?..\")\n",
        "\n",
        "\n",
        "elif 'сложение чисел' in interes or 'сложение' in interes:\n",
        "  print('напишите через пробел числа, которые надо сложить')\n",
        "  chisla=input()\n",
        "  sum=0\n",
        "  chisla=chisla.split()\n",
        "  for i in range(len(chisla)):\n",
        "    sum+=int(chisla[i])\n",
        "  print(sum)\n",
        "\n",
        "\n",
        "elif 'музыка' in interes or \"музыку\" in interes or \"слушать\" in interes or \"послушать\" in interes or \"трек\" in interes:\n",
        "  muz=random.choice(['фонк','реп','джаз',\"хип-хоп\"])\n",
        "  print(\"могу посоветовать\", muz)\n",
        "elif (\"фильм\" in interes or \"кино\" in interes or \"посмотреть\" in interes or \"смотреть\" in interes):\n",
        "  kino=random.choice(['комедию','хоррор','боевик',\"мелодраму\"])\n",
        "  print(\"могу посоветовать\",kino)\n",
        "\n",
        "else:\n",
        "  print(\"переформулируйте, пожалуйста\")\n",
        "\n",
        "\n",
        "\n",
        "\n",
        "\n",
        "\n",
        "\n",
        "\n",
        "\n",
        "\n"
      ],
      "metadata": {
        "id": "fmW-tmUtINN9",
        "outputId": "25f221bc-4320-4af5-eb4b-480105ea6bea",
        "colab": {
          "base_uri": "https://localhost:8080/"
        }
      },
      "execution_count": null,
      "outputs": [
        {
          "output_type": "stream",
          "name": "stdout",
          "text": [
            "что вас интересует: сложение чисел/интересный фильм/ интересная музыка/список дел\n",
            "список\n",
            "что надо сделать: вывести/обновить/очистить?\n",
            "обновить\n",
            "напишите дело или напишите 'конец', если больше нет дел\n",
            "кушать\n",
            "спать\n",
            "конец\n",
            "вот ваш список дел: ['прес качат', 'бегит', 'отжумани', 'кушать', 'спать']\n"
          ]
        }
      ]
    },
    {
      "cell_type": "code",
      "source": [
        "\n"
      ],
      "metadata": {
        "id": "A2mpFTTl0tSs"
      },
      "execution_count": null,
      "outputs": []
    },
    {
      "cell_type": "markdown",
      "source": [
        "# **Задача 4.**\n"
      ],
      "metadata": {
        "id": "PHXBfyc6Ko7D"
      }
    },
    {
      "cell_type": "markdown",
      "source": [
        "Камень, ножницы, бумага\n",
        "\n",
        "Создайте игру в Камень, ножницы, бумагу, в которой пользователь может играть против компьютера. Программа должна запросить выбор пользователя, а затем сгенерировать выбор компьютера. Затем программа должна определить победителя на основе правил игры.\n",
        "\n",
        "**Этап 1:**\n",
        "\n",
        "Определение победителя\n",
        "\n",
        "**Этап 2:**\n",
        "  \n",
        "Игра до 3 побед\n",
        "\n",
        "\n",
        "Ввод для \"Этап 1\":\n",
        "\n",
        "```\n",
        "Камень\n",
        "```\n",
        "\n",
        "Вывод:\n",
        "\n",
        "```\n",
        "Компьютер: Ножницы\n",
        "Игрок: Камень\n",
        "Победа: Игрок\n",
        "```"
      ],
      "metadata": {
        "id": "jnKWeYleI0j6"
      }
    },
    {
      "cell_type": "code",
      "source": [
        "import random\n",
        "user_win=0\n",
        "comp_win=0\n",
        "while user_win<3 and comp_win<3:\n",
        "  user1 = input()\n",
        "  comp1=random.choice(['камень', \"ножницы\", \"бумага\"])\n",
        "  if user1==\"ножницы\" or user1==\"камень\" or user1==\"бумага\":\n",
        "    print('компьютер:', comp1)\n",
        "    if user1==\"ножницы\":\n",
        "      if comp1==\"бумага\":\n",
        "        user_win+=1\n",
        "        print('победа:игрок')\n",
        "      elif comp1==\"камень\":\n",
        "        comp_win+=1\n",
        "        print('победа:компьютер')\n",
        "      else:\n",
        "        print(\"в этом раунде ничья\")\n",
        "    if user1==\"камень\":\n",
        "      if comp1==\"ножницы\":\n",
        "        user_win+=1\n",
        "        print('победа:игрок')\n",
        "      elif comp1==\"бумага\":\n",
        "        comp_win+=1\n",
        "        print('победа:компьютер')\n",
        "      else:\n",
        "        print(\"в этом раунде ничья\")\n",
        "    if user1==\"бумага\":\n",
        "      if comp1==\"камень\":\n",
        "        user_win+=1\n",
        "        print('победа:игрок')\n",
        "      elif comp1==\"ножницы\":\n",
        "        comp_win+=1\n",
        "        print('победа:компьютер')\n",
        "      else:\n",
        "        print(\"в этом раунде ничья\")\n",
        "  else:\n",
        "    print('это что')\n",
        "if user_win==3:\n",
        "  print(\"победил игрок\")\n",
        "else:\n",
        "  print(\"победил компьютер\")\n"
      ],
      "metadata": {
        "id": "ooIPCRe_JHkX",
        "outputId": "6546163e-563b-4a04-a71e-d1616270b18b",
        "colab": {
          "base_uri": "https://localhost:8080/"
        }
      },
      "execution_count": null,
      "outputs": [
        {
          "output_type": "stream",
          "name": "stdout",
          "text": [
            "камень\n",
            "компьютер: камень\n",
            "в этом раунде ничья\n",
            "ножницы\n",
            "компьютер: ножницы\n",
            "в этом раунде ничья\n",
            "бумага\n",
            "компьютер: камень\n",
            "победа:игрок\n",
            "ввв\n",
            "это что\n",
            "камень\n",
            "компьютер: ножницы\n",
            "победа:игрок\n",
            "камень\n",
            "компьютер: бумага\n",
            "победа:компьютер\n",
            "камень\n",
            "компьютер: бумага\n",
            "победа:компьютер\n",
            "камень\n",
            "компьютер: бумага\n",
            "победа:компьютер\n",
            "победил компьютер\n"
          ]
        }
      ]
    },
    {
      "cell_type": "markdown",
      "source": [
        "# **Задача 5.**"
      ],
      "metadata": {
        "id": "Hg4FJNFbLHQO"
      }
    },
    {
      "cell_type": "markdown",
      "source": [
        "Создайте игру \"Палач\" или \"Виселица\", в которой пользователь должен угадать слово, предлагая буквы. Программа должна выбрать случайное слово, а затем разрешить пользователю угадывать буквы. После каждого угадывания программа должна сообщать пользователю, есть ли в слове буква или нет.\n",
        "\n",
        "**Этап 1**\n",
        "Создать саму игру (игра должна иметь привлекательный интерфейс, соотвесвующий классической висилице)\n",
        "\n",
        "**Этап 2:**\n",
        "Ввести подсчет количества очков и ограничения на попытки\n",
        "\n",
        "**Этап 3:** Добавить возможность сразу угадать слово"
      ],
      "metadata": {
        "id": "OHqj3HJuLJgY"
      }
    },
    {
      "cell_type": "code",
      "source": [],
      "metadata": {
        "id": "0N2zCYwVLiIw"
      },
      "execution_count": null,
      "outputs": []
    },
    {
      "cell_type": "markdown",
      "source": [
        "# **Дополнительно: Задача 6 (для тех, кто не сделал в прошлый раз)**\n"
      ],
      "metadata": {
        "id": "w0x3QFGzKtDD"
      }
    },
    {
      "cell_type": "markdown",
      "source": [
        "\n",
        "**Цифра на определенном месте:**\n",
        "\n",
        "Последовательно записан натуральный ряд чисел.\n",
        "\n",
        "Какая цифра стоит в N позиции\n",
        "\n",
        "\n",
        "Вввод:\n",
        "\n",
        "```\n",
        "Введите номер позиции: 1234567890\n",
        "```\n",
        "\n",
        "Вывод:\n",
        "\n",
        "```\n",
        "8\n",
        "```"
      ],
      "metadata": {
        "id": "QqZArcpHJxVj"
      }
    },
    {
      "cell_type": "code",
      "source": [],
      "metadata": {
        "id": "LwjYwBGcKiJ9"
      },
      "execution_count": null,
      "outputs": []
    }
  ]
}